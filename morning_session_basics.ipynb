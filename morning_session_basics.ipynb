{
 "cells": [
  {
   "cell_type": "markdown",
   "metadata": {},
   "source": [
    "Python programming: An introduction\n",
    "================================\n",
    "\n",
    "* **Instructor**: Madhu Kantharaju, Anna Welter, MDC Berlin \n",
    "* **Target audience**: Students from MINT-EC 2023\n",
    "* **Course date**: March 2023"
   ]
  },
  {
   "cell_type": "markdown",
   "metadata": {},
   "source": [
    "### Installing Python\n",
    "\n",
    "\n",
    "Python is a very powerful high-level programming language. In this tutorial, we will be using python 3 and discuss a few core libraries in python. Although one can install python and all required packages one-by-one, that is a lot of work, and hence we recommend using [Anaconda](https://www.anaconda.com/). Anaconda is a python/R distributor which provides most necessary python packages and libraries at one place. Please follow the instructions provided in [Anaconda Documentation](https://docs.anaconda.com/anaconda/install/).\n",
    "\n",
    "\n",
    "After conda is installed, please create a virtual environment for this course (highly recommended). To set up a virtual environment called \"mintec2023\", please run the following command. Also, you can follow the instructions in [Managing Environments](https://docs.conda.io/projects/conda/en/latest/user-guide/tasks/manage-environments.html).\n",
    "\n",
    "#this will create an anaconda environment\n",
    "#called **mintec2023** in 'path/to/anaconda3/envs/'\n",
    "conda create --name mintec2023 python=3.9\n",
    "\n",
    "To activate and enter the environment, run conda activate mintec2023. To deactivate the environment, either run conda deactivate mintec2023 or exit the terminal. Note that every time you want to work on the assignment, you should re-run conda activate mintec2023."
   ]
  },
  {
   "cell_type": "markdown",
   "metadata": {},
   "source": [
    "### Jupyter Notebooks\n",
    "\n",
    "\n",
    "Before we jump into the tutorial, we need to talk about notebooks. A Jupyter notebook lets you write and execute Python code locally in your web browser. Jupyter notebooks make it very easy to play around with code and execute it in bits and pieces; for this reason they are widely used in scientific computing. Colab on the other hand is Google’s flavor of Jupyter notebooks that is particularly suited for machine learning and data analysis and that runs entirely in the cloud. Colab is basically Jupyter notebook on steroids: it’s free, requires no setup, comes preinstalled with many packages, is easy to share with the world, and benefits from free access to hardware accelerators like GPUs and TPUs (with some caveats).\n",
    "\n",
    "If you wish to run the notebook locally with Jupyter, make sure your virtual environment is installed correctly (as per the setup instructions), activate it, then run pip install jupyter. And then run jupyter-notebook to launch a jupyter-notebook"
   ]
  },
  {
   "cell_type": "markdown",
   "metadata": {},
   "source": [
    "## 1. Aims of this session\n",
    "\n",
    "This notebook will teach you the basic concepts necessary to understand and write basic Python code, using practical examples."
   ]
  },
  {
   "cell_type": "markdown",
   "metadata": {},
   "source": [
    "## 2. Learning goals\n",
    "\n",
    "In general, the goal should be to understand the ground concepts behind the material as other lectures depend on it. Do not worry if you don't know the answer to every question. Try to understand as much as possible and to ask often to solve to your problems.\n",
    "\n",
    "### Theory\n",
    "\n",
    "- Python and Jupyter Notebooks\n",
    "- Variables\n",
    "- Flow control\n",
    "- Functions\n",
    "- Modules\n",
    "- Imports\n",
    "\n",
    "### Practical\n",
    "\n",
    "- How to use notebooks\n",
    "- Data structures:\n",
    "  - Assigning variables\n",
    "  - Perform operations on variables\n",
    "  - Indexing and slicing lists\n",
    "  - Create and alter dictionaries\n",
    "- Flow control:\n",
    "  - Taking decisions: `if-else` conditions\n",
    "  - Repeating actions: `for` loops\n",
    "- Reusing code:\n",
    "  - Defining and calling functions\n",
    "  - Importing modules\n",
    "\n",
    "Don't hesitate to interrupt and ask if concepts remain unclear or tasks are not understood!"
   ]
  },
  {
   "cell_type": "markdown",
   "metadata": {},
   "source": [
    "## 3. References\n",
    "\n",
    "The official documentation for Python:\n",
    "- https://docs.python.org/3/\n",
    "- https://docs.python.org/3/tutorial/modules.html\n",
    "- https://github.com/volkamerlab/ai_in_medicine\n",
    "- https://cs231n.github.io/python-numpy-tutorial/"
   ]
  },
  {
   "cell_type": "markdown",
   "metadata": {},
   "source": [
    "### 4.1 Python and Jupyter Notebooks\n",
    "\n",
    "#### What is Python?\n",
    "\n",
    "Python is a widely used general-purpose high-level programming language.\n",
    "The term \"high-level\" means that the language has abstracted away most of the technical details and manages them for you (e.g. memory allocation).\n",
    "\n",
    "In this course we will use Python 3.8 (default in Colab as of March 2023).\n",
    "\n",
    "#### What is this interface?\n",
    "\n",
    "This web-based interface  is a so called **Jupyter notebook**, a web application that allows you to create and share documents which contain executable code, equations, visualizations and explanatory text. \n",
    "\n",
    "It allows you to define so called *cells* of different formats:\n",
    "\n",
    "- Rich-text or Markdown cells (like this cell)\n",
    "- Code cells\n",
    "\n",
    "You can *run* (execute) each cell seperately by pressing <kbd>Shift</kbd>+<kbd>Enter</kbd> or <kbd>Ctrl</kbd>+<kbd>Enter</kbd>. All names you define (variables, functions...) are available for **both** preceding _and_ following cells once executed. Careful with the order in which you execute your cells!\n",
    "\n",
    "Some code cells additionally produce an output (text, images, etc.). In that case, the output will appear underneath the code cell.\n",
    "\n",
    "\n",
    "> __Exercise__\n",
    ">\n",
    "> Try to execute the following cell and make sure the output appears."
   ]
  },
  {
   "cell_type": "code",
   "execution_count": null,
   "metadata": {},
   "outputs": [],
   "source": [
    "print(\"This is a cell with code.\")\n",
    "# This is a comment line. \n",
    "# Lines in a code cell starting with the '#' symbol are\n",
    "# ignored when you run a piece of code\n",
    "\n",
    "# print('This sentence will NOT appear underneath the cell!')"
   ]
  },
  {
   "cell_type": "markdown",
   "metadata": {},
   "source": [
    "### 4.2 Variables and Operations\n",
    "\n",
    "There are several **types** of objects depending on their contents.\n",
    "\n",
    "In the following cells, you will learn about:\n",
    "\n",
    "- scalar (one element) objects:\n",
    "    - integers (`int`)\n",
    "    - boolean (`bool`)\n",
    "    - floating-point numbers (`float`)\n",
    "    - strings (`str`)\n",
    "- collection objects:\n",
    "    - lists (`list`)\n",
    "    - dictionaries (`dict`)\n",
    "\n",
    "#### Assignment\n",
    "\n",
    "Regardless of the type, assignment can be done with the following syntax:\n",
    "\n",
    "```python\n",
    "name = value\n",
    "```\n",
    "\n",
    "You can think of _names_ as a label hanging from a _value_. As with real objects, you can attach several names to the same value:\n",
    "\n",
    "```python\n",
    "color = \"pink\"\n",
    "# add a label to the same object\n",
    "colour = color\n",
    "# you can also do this\n",
    "colour = color = \"pink\"\n",
    "```\n",
    "\n",
    "Two things to note:\n",
    "\n",
    "1. The _type_ of the value will be implicitly inferred from the value _contents_.\n",
    "2. You cannot use spaces in the name. Python style guide recommends using `lowercase_words_separated_by_underscores`.\n"
   ]
  },
  {
   "cell_type": "markdown",
   "metadata": {},
   "source": [
    "#### Scalar objects\n",
    "\n",
    "##### Integers\n",
    "Integers (`int` for short) are numbers without decimal digits. In the following example, you see the definition of a variable named  `numeric_variable`. After its assigment, the name will be reassigned twice. After each operation the new value is shown with the function `print()`. Everything inside the `(...)` will be shown as output.\n",
    "\n",
    "```python\n",
    "# assigning the name 'numeric_variable' to a value of '3'.\n",
    "numeric_variable = 3\n",
    "# printing a variable will show its content underneath the cell\n",
    "print(numeric_variable)\n",
    "\n",
    "# assigning a different value to variable namend 'var1', thereby OVERWRITING the previous definition:\n",
    "numeric_variable = 4\n",
    "print(numeric_variable)\n",
    "\n",
    "# assigning a new value to variable namend 'var1', thereby setting a new value using the old one.\n",
    "numeric_variable = numeric_variable + 1\n",
    "print(numeric_variable)\n",
    "    \n",
    "```  \n",
    "\n",
    "The output will be:\n",
    "```python\n",
    "    3\n",
    "    4\n",
    "    5\n",
    "```\n",
    "\n",
    "Note that Python doesn't care about the actual _name_. You can use any word (e.g. `ugly_table = 4`), but it's often recommended to use **meaningful** names so we can get an idea on what the name refers to."
   ]
  },
  {
   "cell_type": "markdown",
   "metadata": {},
   "source": [
    "##### Boolean\n",
    "\n",
    "Boolean variables can only have two values: `True`  and `False`. They can be considered a very small subset of `int`: `True` is equivalent to `1` and `False` equivalent to `0`. Assignment works similarly, but you have to use the _Capitalized_ spelling!\n",
    "\n",
    "\n",
    "```python\n",
    "this_is_a_boolean = True\n",
    "```\n",
    "\n",
    "> *TASK:* <br>\n",
    "*Try to assign the value `False` to the variable from the example above.*"
   ]
  },
  {
   "cell_type": "code",
   "execution_count": null,
   "metadata": {},
   "outputs": [],
   "source": [
    "this_is_a_boolean = false\n",
    "print(this_is_a_boolean)"
   ]
  },
  {
   "cell_type": "markdown",
   "metadata": {},
   "source": [
    "##### Strings\n",
    " \n",
    "A `str` type is able to store _text_; i.e. they represent words, sentences or symbols. You need to use `\"\"` quotes to define them!\n",
    "\n",
    "```python\n",
    "# assigning the variable with the name 'my_string' the value \"This is a string\". \n",
    "my_string = \"This is a string\"\n",
    "```\n",
    "\n",
    "Note that a `str` can contain a the text representation of a number. They resulting type will depend on the presence of the quotes!\n",
    "\n",
    "```python\n",
    "also_a_string = \"1\"  # I am a string due to the \"\", not a number!\n",
    "i_am_an_int = 1  # I am an int due to the missing \"\"\n",
    "```"
   ]
  },
  {
   "cell_type": "markdown",
   "metadata": {},
   "source": [
    "#####  Float\n",
    "Variables of type `float` are numbers with floating decimal. Whenever you write a number that contains a `.`, the type of the variable is inferred to be a `float`.\n",
    "\n",
    "```python\n",
    "one_and_a_half = 1.5  # a typical float\n",
    "\n",
    "# The following is also a float. \n",
    "# Although this number mathematically has no floating decimal, it is written with a \".\"\n",
    "one_dot_zero = 1.0\n",
    "also_one_dot_zero = 1.  # and this one too!\n",
    "```\n",
    "\n"
   ]
  },
  {
   "cell_type": "code",
   "execution_count": null,
   "metadata": {},
   "outputs": [],
   "source": [
    "my_string = \"This is a string\"\n",
    "# your lines of code here"
   ]
  },
  {
   "cell_type": "markdown",
   "metadata": {},
   "source": [
    "#### Collection objects\n",
    "\n",
    "##### lists\n",
    "\n",
    "Python has a datatype called `list`, where other variables (regardless of their type) can be positionally stored. In other words, `list`s are a sorted collection of elements. \n",
    "\n",
    "The syntax for list definition uses square brackes `[ ]`, which surround the values separated by commas `,`:\n",
    "\n",
    "![def_list.png](https://github.com/volkamerlab/ai_in_medicine/raw/update-2021.02/images/def_list.png)\n",
    "\n",
    "The code `my_list = [5, 10]` would therefore store `5` at first position, and `10` at second position.\n",
    "\n",
    "  \n",
    "> *TASK:*<br>\n",
    "> *Try to:*\n",
    "> - *define a list called `animals`*\n",
    "> - *at the first* **position**, *store the string `\"horse\"`.*\n",
    "> - *store the string `\"spider\"` TWICE at* **position** *2 and 3.*\n",
    " "
   ]
  },
  {
   "cell_type": "code",
   "execution_count": null,
   "metadata": {},
   "outputs": [],
   "source": [
    "# TASK contents here\n",
    "\n",
    "\n"
   ]
  },
  {
   "cell_type": "code",
   "execution_count": null,
   "metadata": {},
   "outputs": [],
   "source": [
    "# This is another list\n",
    "neighborhoods = [\"mitte\", \"kreuzberg\", \"kreuzberg\"]\n",
    "print(neighborhoods)"
   ]
  },
  {
   "cell_type": "markdown",
   "metadata": {},
   "source": [
    "Once defined, you can access the contained elements in different ways. The most common way is by using the **index** of the element. This is the position number, but the count starts from `0`.\n",
    "\n",
    "```python\n",
    "# print the first element of the list\n",
    "print(neighborhoods[0])\n",
    "```\n",
    "\n",
    "Note that the `index` itself could be a variable of the type `int`!\n",
    "\n",
    "```python\n",
    "index = 0\n",
    "print(neighborhoods[index])\n",
    "```\n",
    "\n",
    "\n",
    "> *TASK:*\n",
    "> *Now print out your favorite kiez in the list in two ways:*\n",
    "> - *by using an integer number corresponding to the `index` of your favorite kiez.*\n",
    "> - *by using a variable called `index`.*"
   ]
  },
  {
   "cell_type": "code",
   "execution_count": null,
   "metadata": {},
   "outputs": [],
   "source": [
    "neighborhoods = [\"mitte\", \"kreuzberg\", \"neukölln\"]\n",
    "print(neighborhoods[0])\n",
    "\n",
    "index = 0\n",
    "print(neighborhoods[index])\n",
    "\n",
    "print(neighborhoods[3])"
   ]
  },
  {
   "cell_type": "markdown",
   "metadata": {},
   "source": [
    "***\n",
    "\n",
    "Oh! Was that an error? \n",
    "\n",
    "<font color=red>Setting or accessing a value of an index of a list which is not defined results in an error!</font>\n",
    "\n",
    "```python\n",
    "list1[3]\n",
    "---------------------------------------------------------------------------\n",
    "IndexError                                Traceback (most recent call last)\n",
    "<ipython-input-9-831b15cbf272> in <module>()\n",
    "----> 1 list1[3]\n",
    "\n",
    "IndexError: list index out of range\n",
    "\n",
    "```"
   ]
  },
  {
   "cell_type": "markdown",
   "metadata": {},
   "source": [
    "###### Slicing (range-indexing) a list\n",
    "\n",
    "In the following you find a definition of a list called `more_neighborhoods`. By giving a **range** of indices you have access to a contiguous subset of the list. A range can be set in the following way:\n",
    "\n",
    "```python\n",
    "more_neighborhoods = [\"mitte\", \"kreuzberg\", \"neukölln\", \"spandau\"]\n",
    "more_neighborhoods[start:stop]\n",
    "```\n",
    "where `start` and `stop` are numbers (integers). Thus, ` more_neighborhoods[1:3] ` would give an output of `[\"kreuzberg\", \"neukölln\"]`. Notice that the `stop` index is _not_ included in the output.\n",
    "\n",
    "> *TASK:*\n",
    ">\n",
    "> *print out the second and third string*"
   ]
  },
  {
   "cell_type": "code",
   "execution_count": 1,
   "metadata": {},
   "outputs": [
    {
     "name": "stdout",
     "output_type": "stream",
     "text": [
      "['kreuzberg', 'neukölln']\n"
     ]
    }
   ],
   "source": [
    "more_neighborhoods = [\"mitte\", \"kreuzberg\", \"neukölln\", \"spandau\"]"
   ]
  },
  {
   "cell_type": "code",
   "execution_count": 2,
   "metadata": {},
   "outputs": [
    {
     "name": "stdout",
     "output_type": "stream",
     "text": [
      "['spandau']\n",
      "spandau\n",
      "spandau\n"
     ]
    }
   ],
   "source": [
    "# More examples\n",
    "print(more_neighborhoods[3:5])  # even if we are out of bounds, this will not raise an error\n",
    "print(more_neighborhoods[3])\n",
    "print(more_neighborhoods[-1])  # negative slicing can be used to count from the end; -1 == last one!"
   ]
  },
  {
   "cell_type": "markdown",
   "metadata": {},
   "source": [
    "Cool trick: Python considers `str` types to be a _sequence_ of characters, which is very similar to the structure of a `list`. In fact, we can apply the same synthax to get a **substring** of our string. Keep that in mind, it will become necessary later on.\n",
    "\n",
    "```python\n",
    "far_away = \"spandau\"\n",
    "print(far_away[1:4])\n",
    "# will print:    \n",
    "\"pan\"\n",
    "```"
   ]
  },
  {
   "cell_type": "markdown",
   "metadata": {},
   "source": [
    "##### Dictionaries\n",
    "\n",
    "We have learnt that different objects can be grouped in a sequential container called `list`. There's another useful container called a dictionary (type `dict`). \n",
    "\n",
    "With `dict` objects, you don't obtain a _sequence_ of variables, but a _mapping_ of variable _key-value_ pairs, like in real life dictionaries! (The word is the key, the value is the definition for that word). \n",
    "\n",
    "They can be useful, for example, to assign properties to variables. Let's say, classmates and their age:\n",
    "\n",
    "\n",
    "Or, neighborhoods and the [area of these places in sqkm]:\n",
    "\n",
    "```python\n",
    "area_by_neighborhood = {\"mitte\": 39.47, \"kreuzberg\": 6.4, \"neukölln\": 44.93, \"spandau\": 8.03}\n",
    "```\n",
    "\n",
    "The keys in this example are `\"mitte\"`, `\"kreuzberg\"`, `\"neukölln\"` and `\"spandau\"`. The values are `39.47`, `6.4`, `44.93`, `8.03` respectively.\n",
    "\n",
    "Values can be accessed by refering to the specific **key** by using `[]` brackets (same as lists!):\n",
    "\n",
    "```python\n",
    "area_by_neighborhood[\"mitte\"]\n",
    "\n",
    "    39.47\n",
    "```\n",
    "\n",
    "Variables of type `dict` can be easily extended by assigning a **key**-**value** pair to the dictionary. This looks like the following:\n",
    "\n",
    "```python\n",
    "area_by_neighborhood[\"lichtenberg\"] = 52.29\n",
    "```\n",
    "\n",
    "In the same way already existent  **key**-**value** pairs can be overwritten.\n",
    "\n",
    "> **TASK:**\n",
    "> *We made a typo in the dict definition above. Kreuzberg (or more specifically, Friedrichshain-Kreuzberg) has an area of 10.4 sqkm, not 6.4! Correct the **key**-**value** pair and set its value to `10.4` without redefining the entire `area_by_neighborhood` dictionary. \n",
    "> Check your correction by printing the new dictionary value.*"
   ]
  },
  {
   "cell_type": "code",
   "execution_count": 4,
   "metadata": {},
   "outputs": [
    {
     "name": "stdout",
     "output_type": "stream",
     "text": [
      "{'mitte': 39.47, 'kreuzberg': 6.4, 'neukölln': 44.93, 'spandau': 8.03}\n"
     ]
    }
   ],
   "source": [
    "area_by_neighborhood = {\"mitte\": 39.47, \"kreuzberg\": 6.4, \"neukölln\": 44.93, \"spandau\": 8.03}\n",
    "# Your lines of code here\n",
    "\n",
    "print(area_by_neighborhood)"
   ]
  },
  {
   "cell_type": "markdown",
   "metadata": {},
   "source": [
    "***\n",
    "\n",
    "#### Operations\n",
    "\n",
    "Every object type (`int`, `str`, etc) defines some **operations** to do basic tasks.\n",
    "\n",
    "For example, a variable of type `int` defines, among others, the following operations:\n",
    "- Addition `+`\n",
    "- Substraction `-`\n",
    "- Multiplication `*`\n",
    "- Division `/`\n",
    "\n",
    "\n",
    "A division is allowed but **changes** the type of the _returned_ variable (from `int` to `float`). \n",
    "\n",
    "\n",
    "```python\n",
    "# applying basic operations on the cases registerd in Mitte and Friedrichshain-Kreuzberg\n",
    "print(area_by_neighborhood[\"mitte\"] + area_by_neighborhood[\"kreuzberg\"])  \n",
    "    # type int\n",
    "print(area_by_neighborhood[\"mitte\"] - area_by_neighborhood[\"kreuzberg\"])  \n",
    "    # type int\n",
    "print(area_by_neighborhood[\"mitte\"] * area_by_neighborhood[\"kreuzberg\"])  \n",
    "    # type int\n",
    "print(area_by_neighborhood[\"mitte\"] / area_by_neighborhood[\"kreuzberg\"])  \n",
    "   # type float\n",
    "\n",
    "\n",
    "```\n",
    "\n",
    "> *TASK:* <br>\n",
    "*Now try to use the addition-operation for the variable named `my_string` already defined in the cell below. <br>\n",
    "Save the addition in a variable called `res1` and print the result.*\n"
   ]
  },
  {
   "cell_type": "code",
   "execution_count": null,
   "metadata": {},
   "outputs": [],
   "source": [
    "my_string = \"basics\"\n",
    "# ...\n",
    "# res1 = ..."
   ]
  },
  {
   "cell_type": "markdown",
   "metadata": {},
   "source": [
    "Depending on the type of the object these operations are **contextually** defined.\n",
    "\n",
    "Note how mixing two types of variables with an operation can result in an error! For example the following is forbidden:\n",
    "\n",
    "```python\n",
    "var1 = 5\n",
    "res1 = \"test\"\n",
    "# this should produce an error, since the operator '+' can not combine 'int' and 'str' variables! \n",
    "var1 + res1\n",
    "\n",
    "---------------------------------------------------------------------------\n",
    "TypeError                                 Traceback (most recent call last)\n",
    "<ipython-input-6-05639e44053b> in <module>()\n",
    "      1 # this should produce an error, since the operant '+' can not combine 'int' and 'str' variables!\n",
    "----> 2 var1 + res1\n",
    "\n",
    "TypeError: unsupported operand type(s) for +: 'int' and 'str'\n",
    "```"
   ]
  },
  {
   "cell_type": "markdown",
   "metadata": {},
   "source": [
    "In addition to mathematical operations, you can apply logical operations, like **comparisons**.\n",
    "\n",
    "An **equality operation** (a comparison operation) can be performed by using the `==` operator. The result is always a `bool`-type having either the value `True` or `False`, depending on whether the content of two variables are indeed equal or not. Beside equality, we can also check for inquality be using the `!=` operation.\n",
    "\n",
    "Imagine this as a question you ask to the computer. \"Is the content of var1 **equal** to the content of var2?\"\n",
    "\n",
    "- Equality `==`\n",
    "- Inequality `!=`\n",
    "\n",
    "```python\n",
    "print(var1 == var1)  # type bool\n",
    "    True\n",
    "    \n",
    "print(var1 != var1)  # type bool\n",
    "    False\n",
    "```\n",
    "\n",
    "Note how comparisons _always_ produce a `bool` type!"
   ]
  },
  {
   "cell_type": "code",
   "execution_count": null,
   "metadata": {},
   "outputs": [],
   "source": [
    "x = 7\n",
    "y = 7\n",
    "print(\"Is x equal to y? The answer is...\", x == y)\n",
    "print(\"Is x not equal to y? The answer is...\", x != y)"
   ]
  },
  {
   "cell_type": "markdown",
   "metadata": {},
   "source": [
    "Instead of equality (`==`), there are other comparison operations which return a `bool`-type value. Think of it as other questions to the computer than only asking it for equality. These \"questions\" can be used in a `while` loop:\n",
    "- `<` strictly less than\n",
    "- `>` strictly greater than\n",
    "- `<=` less than or equal\n",
    "- `>=` greater than or equal\n",
    "- `!=` not equal\n"
   ]
  },
  {
   "cell_type": "markdown",
   "metadata": {},
   "source": [
    "***\n",
    "⌚ Suggested break!\n",
    "***"
   ]
  },
  {
   "cell_type": "markdown",
   "metadata": {},
   "source": [
    "### 4.3 Flow control\n",
    "\n",
    "As any programming language python gives flow control possibilities: `if, else, for, while`.\n",
    "\n",
    "#### Decisions: if, elif, else\n",
    "\n",
    "Conditionals allow you to you easily define automated decisions.\n",
    "\n",
    "We could have a piece of code checking the number of cases in our neighborhood every day so we can get an alert if the number of cases exceeds a certain threshold. For example:\n",
    "\n",
    "Notice the syntax: \n",
    "```python\n",
    "if cases_by_neighborhood[\"kreuzberg\"] > 10000:\n",
    "    print(\"The number of Friedrichshain-Kreuzberg is above ten thousand!!!!!\")\n",
    "    # here, more lines could follow\n",
    "else:\n",
    "    # If the `if` clause is not true, then this block gets executed instead.\")\n",
    "    print(\"Kreuzberg has not reached a 10000 cases yet.\")\n",
    "\n",
    "# These lines are not indented anymore.\n",
    "# They will be executed regardless of the value of variable 'status'. \n",
    "print(\"Number of cases in Kreuzberg:\", cases_by_neighborhood[\"kreuzberg\"])    \n",
    "```\n",
    "\n",
    "Notice the syntax: \n",
    "* Keyword `if` indicates the start of an ` if`-statement. \n",
    "* A **conditional expression** (here `cases_by_neighborhood[\"kreuzberg\"] > 1000`) follows, which will return (explicitly or implicitly) a `bool`-type. Thus, either `True` or `False`. \n",
    "* A `:` closes the ` if`-statement. \n",
    "* An **indented** block follows. All contiguous lines sharing the same level of indentation (or deeper) belong to the same block and are executed only if the condition is met.\n",
    "* After the `if` block, an `else` block is defined. This is optional!\n",
    "\n",
    "Now further think of a scenario, where we have to decide whether to run a certain code based on 3 or more different conditions. Alternative, exclusive conditions can be done with `elif`.\n",
    "\n",
    "\n",
    "```python\n",
    "if cases_by_neighborhood[\"kreuzberg\"] > 150:\n",
    "    print(\"The number of Friedrichshain-Kreuzberg is above a 150!!!!!\")\n",
    "    # here, more lines could follow\n",
    "elif cases_by_neighborhood[\"kreuzberg\"] > 75:\n",
    "    print(\"The number of Friedrichshain-Kreuzberg is above a 75!!!\")\n",
    "    # here, more lines could follow\n",
    "elif cases_by_neighborhood[\"kreuzberg\"] > 50:\n",
    "    print(\"The number of Friedrichshain-Kreuzberg is above a 50!!!\")\n",
    "    # here, more lines could follow\n",
    "else:\n",
    "    # If the `if` clause is not true, then this block gets executed instead.\")\n",
    "    print(\"Kreuzberg has not reached a 50 cases yet.\")\n",
    "```\n",
    "***\n",
    "\n",
    "> **TASK**\n",
    "> Create a dictionary showing number of corona cases in the neighbourhoods we saw earlier\n",
    "\n",
    "> Mitte: 915, Kreuzberg: 480, Neukoelln: 467, Spandau: 418 [as of 02.03.2023](https://coronalevel.com/Germany/Berlin/Berlin_Spandau/)\n",
    "\n",
    "> Copy the code above in a new cell. Before running it, think: What's the expected output of the cell below? Why?"
   ]
  },
  {
   "cell_type": "code",
   "execution_count": null,
   "metadata": {},
   "outputs": [],
   "source": [
    "# Copy the if-elif-elif-else code here\n",
    "\n"
   ]
  },
  {
   "cell_type": "markdown",
   "metadata": {},
   "source": [
    "#### Repetition: for-loop\n",
    "\n",
    "When we want to repeat the same action for different parameters, we wouldn't like to write the same code N times, right? That's what computers are for, anyway.\n",
    "\n",
    "Let's check which neighborhoods are above five hundred cases. You might be tempted to do this:\n",
    "\n",
    "```python\n",
    "if cases_by_neighborhood[\"kreuzberg\"] > 500:\n",
    "    print(\"The number of cases in Friedrichshain-Kreuzberg is above five hundred!!!!!\")\n",
    "if cases_by_neighborhood[\"mitte\"] > 500:\n",
    "    print(\"The number of cases in Mitte is above five hundred!!!!!\")\n",
    "if cases_by_neighborhood[\"neukölln\"] > 500:\n",
    "    print(\"The number of cases in Neukölln is above five hundred!!!!!\")\n",
    "if cases_by_neighborhood[\"spandau\"] > 500:\n",
    "    print(\"The number of cases in Spandau is above five hundred!!!!!\")\n",
    "\n",
    "```"
   ]
  },
  {
   "cell_type": "code",
   "execution_count": null,
   "metadata": {},
   "outputs": [],
   "source": []
  },
  {
   "cell_type": "markdown",
   "metadata": {},
   "source": [
    "This is really boring because we have to copy and paste the same code N times, and then replace the _key_ of the dictionary, and the full name of the neighborhood. It also introduces a lot of duplication. What if we want to change the threshold from `1000` to `2000` in the future? That would be four replacements. Imagine this for all neighborhoods in Berlin, or for all cities in Germany! No way!\n",
    "\n",
    "That's what loops are for! Let's analyze each block. They are really similar because, well, they are copies:\n",
    "\n",
    "```python\n",
    "if cases_by_neighborhood[THIS_IS_THE_DICT_KEY] > 500:\n",
    "    print(\"The number of cases in THIS_IS_THE_FULL_NAME is above five hundred!!!!!\")\n",
    "```\n",
    "\n",
    "We need to repeat _that_ action, using different dictionary keys.\n",
    "\n",
    "```python\n",
    "neighborhoods = [\"mitte\", \"kreuzberg\", \"neukölln\", \"spandau\"]\n",
    "\n",
    "for neighborhood_key in neighborhoods:\n",
    "    if cases_by_neighborhood[neighborhood_key] > 500:\n",
    "        print(\"The number of cases in\", neighborhood_key, \"is above five hundred!!!!!\")    \n",
    "```"
   ]
  },
  {
   "cell_type": "code",
   "execution_count": null,
   "metadata": {},
   "outputs": [],
   "source": []
  },
  {
   "cell_type": "markdown",
   "metadata": {},
   "source": [
    "What's happening here?\n",
    "\n",
    "1. `for NAME in COLLECTION:`. Just as `if`, a `:` is needed to end the line.\n",
    "2. `NAME` will be assigned to the first element in `COLLECTION`.\n",
    "3. The indented block(s) will be executed with `NAME = FIRST VALUE`.\n",
    "4. `NAME` will take the second element.\n",
    "5. The indented block(s) will be executed with `NAME = SECOND VALUE`\n",
    "6. ... and so on. The loop ends when there are no more elements in the list to assign.\n",
    "\n",
    "> **TASK**\n",
    ">\n",
    "> How many entries does `neighborhoods` contain? You can use `len(neighborhoods)` to guess the answer, but you can also compute it with a `for` loop, a reassignable `int` variable and the `+` operator."
   ]
  },
  {
   "cell_type": "code",
   "execution_count": null,
   "metadata": {},
   "outputs": [],
   "source": [
    "#  Try your best here\n",
    "count = 0\n",
    "for neighborhood in neighborhoods:\n",
    "    ..."
   ]
  },
  {
   "cell_type": "markdown",
   "metadata": {},
   "source": [
    "Note: There are more ways to _repeat actions_ in Python, like using `while` loops or recursion, but `for` is by far the most common!"
   ]
  },
  {
   "cell_type": "code",
   "execution_count": null,
   "metadata": {},
   "outputs": [],
   "source": []
  },
  {
   "cell_type": "markdown",
   "metadata": {},
   "source": [
    "### 4.4 Introduction to functions\n",
    "\n",
    "As you have seen, repeating a single operation is useful so you do not get bored writing the same lines again and again. In fact, avoiding the repetition of tasks is one of the main core concepts in programming! We are lazy and we want to do as little as possible. This leads to devising mechanisms to reuse the same code in a flexible way.\n",
    "\n",
    "This is what functions are for: **reusable pieces of code that can be parametrized**. This means they accept variables as arguments! They can optionally _return_ a result too. They are very similar to mathematical functions in that sense!\n",
    "\n",
    "```python\n",
    "# Define a function\n",
    "def square(number):\n",
    "    output = number ** 2\n",
    "    return output\n",
    "\n",
    "# Use the function\n",
    "result = square(2)\n",
    "```\n",
    "\n",
    "What's the result?"
   ]
  },
  {
   "cell_type": "code",
   "execution_count": null,
   "metadata": {},
   "outputs": [],
   "source": []
  },
  {
   "cell_type": "markdown",
   "metadata": {},
   "source": [
    "Functions can be understood as tasks. A chef might be asked to perform a task, like \"cutting vegetables\". The function would contain the instructions to know **how** to move the knife, but not **what** to cut, since there is more than one vegetable for which this instruction is valid. You then give for example a carrot to the cook (call the function with a \"carrot\" as argument) and get the cut carrot back.\n",
    "\n",
    "Note that:\n",
    "1. Defining a function does not mean you are using or _calling_ the function. \n",
    "2. If there's a return value, you also need to collect it. Otherwise it will be produced and discarded. Think of the cook you asked to cut the carrot. He did it properly and hands you the cut carrot, but you don't take it.\n",
    "\n",
    "So, as a recap, in order to use a function, you first have to know:\n",
    "\n",
    "1. If the function **exists**, either because you have written it or because you have imported it from another file (see below).\n",
    "2. What **arguments** or **parameters** the function is expecting. A function can take arguments or not. Arguments can be required (positional arguments) or optional (keyword arguments).\n",
    "3. If the function **returns** something. If it does not return anything, it doesn't mean it didn't _do_ anything. It might have some kind of side effect (writing a file to disk, for example).\n",
    "\n",
    "\n",
    ">*TASK:*\n",
    "*You already know and even used one particular function. Do you know how it is named and what it does?*"
   ]
  },
  {
   "cell_type": "markdown",
   "metadata": {},
   "source": [
    "#### Methods and atributes\n",
    "\n",
    "Functions can exist on their own (like `len()` or `print()`), but they can also be attached to variables. When a variable contains methods, software scientists call them _objects_. And, surprise, _everything_ in Python is an object! Even the most basic data types like `int` or `str` define their own functions. Object-attached functions are called **methods**. In addition to methods, you can also find **attributes**. Attributes are like \"sub-variables\"; variables inside a variable. To access both of them you use a `.` symbol.\n",
    "\n",
    "A `float` datatype for example has an attribute called `real` and a function called `is_integer()`.\n",
    "\n",
    "```python\n",
    "\n",
    "x = 1.2  # a float value\n",
    "print(x.real)  # accessing attribute of variable \"x\" called \"real\". Notice: No () brackets!\n",
    "print(x.is_integer())  # calling function is_integer() of variable \"x\" with no argument.\n",
    "\n",
    "    1.2\n",
    "    True\n",
    "```\n",
    "\n",
    "The **attribute** `real` contains the real part of the floating point number (in case of a complex number this becomes important).<br>\n",
    "The **function** `is_integer()` does not use any arguments and returns a `bool` type having the value `True` if `x` can be written as `int` type.\n",
    "\n",
    "> TASK\n",
    "> \n",
    "> You can explore the list of attributes and methods in each object by typing `.` after their name. If you press <kbd>TAB</kbd> you will see an autocompletion list! Execute the cell below and explore these lists."
   ]
  },
  {
   "cell_type": "code",
   "execution_count": null,
   "metadata": {},
   "outputs": [],
   "source": [
    "number = 4\n",
    "string = \"Jaime\"\n",
    "dictionary = {\"python_version\": \"3.8\"}"
   ]
  },
  {
   "cell_type": "code",
   "execution_count": null,
   "metadata": {},
   "outputs": [],
   "source": [
    "# Place your cursor right after the period and press tab!\n",
    "number.\n",
    "string.\n",
    "dictionary."
   ]
  },
  {
   "cell_type": "markdown",
   "metadata": {},
   "source": [
    "### 4.5 Modules and imports\n",
    "\n",
    "Python let you reuse _objects_ defined in other _modules_ via the [`import` system](https://docs.python.org/3/reference/import.html). A module is a file containing Python definitions and statements. You can easily identify them thanks to the `*.py` file extension.\n",
    "\n",
    "> More info on the [Python documentation](https://docs.python.org/3/tutorial/modules.html)!\n",
    "\n",
    "Python ships with a large battery of modules that you can use right away. Since it would be unfeasible to load all definitions directly when starting Python (it simply would take too long and would consume too much memory), only a very small subset is available upon initialization (like `len()`, `print()`, `range()`). The other ones must be _explicitly_ invoked or **imported**. That can be achieved with the `import` keyword.\n",
    "\n",
    "For example, to get access to more scalar functions like the square root, you need to import the `math` module, which defines `sqrt`. As you can see, the functions defined in `math` can be accessed via `.`.\n",
    "\n",
    "```python\n",
    "import math\n",
    "help(math.sqrt)\n",
    "```"
   ]
  },
  {
   "cell_type": "code",
   "execution_count": null,
   "metadata": {},
   "outputs": [],
   "source": [
    "# Try it here!\n",
    "\n"
   ]
  },
  {
   "cell_type": "markdown",
   "metadata": {},
   "source": [
    "The import system can also be used to load modules developed by 3rd parties. One of the most popular modules are **numpy** and **pandas**, as you will see in the following dates. Import statements look like the following:\n",
    "\n",
    "```python\n",
    "import numpy\n",
    "import pandas\n",
    "```\n",
    "\n",
    "Definition\n",
    "\n",
    "```python\n",
    "# calling the function \"mean\" from the numpy module, giving the list \"[1,2,3,4]\" as argument.\n",
    "numpy.mean([1,2,3,4])\n",
    "\n",
    "```\n",
    "\n",
    "Since module names are sometimes long (and informaticians are lazy) we can alias them by using the keyword `as`.\n",
    "\n",
    "```python\n",
    "import numpy as np\n",
    "import pandas as pd\n",
    "```\n",
    "\n",
    "Whenever we need a function/definition from the `numpy` module we can further refer to the module as `np`.\n",
    "\n",
    "```python\n",
    "# calling the function \"mean\" from the numpy module, giving the list \"[1,2,3,4]\" as argument.\n",
    "np.mean([1,2,3,4])\n",
    "```\n",
    "\n",
    "***"
   ]
  },
  {
   "cell_type": "markdown",
   "metadata": {},
   "source": [
    "\n",
    "## 5. Discussion\n",
    "\n",
    "Python is a very expressive language that has risen in popularity in the recent years. The ecosystem of packages and modules for data science and, more specifically, data science is _vast_. Learning the basics can end up being one of your master assets down your career, especially if you decide to pursue an academic research path!\n",
    "\n",
    "Right now, all these concepts might be very spread and not make sense together. Hopefully, after seeing more application-oriented examples in the following days you will have a better understanding of the potential and power of Python.\n",
    "\n",
    "_Hello world, future Pythonista!_\n",
    "\n",
    "***"
   ]
  },
  {
   "cell_type": "markdown",
   "metadata": {},
   "source": [
    "## 6. Exercises\n",
    "\n",
    "6.1 When executing the following code, will there be an error?\n",
    "\n",
    "```python\n",
    "x = 5\n",
    "y = \"5\"\n",
    "\n",
    "print(x + y)\n",
    "\n",
    "```"
   ]
  },
  {
   "cell_type": "markdown",
   "metadata": {},
   "source": []
  },
  {
   "cell_type": "markdown",
   "metadata": {},
   "source": [
    "6.2 What do we need to change it order to get the correct output \"10\"?"
   ]
  },
  {
   "cell_type": "markdown",
   "metadata": {},
   "source": []
  },
  {
   "cell_type": "markdown",
   "metadata": {},
   "source": [
    "6.3 What is the expected output of the following code?\n",
    "```python\n",
    "x = \"\"\n",
    "for i in \"python_is_amazing!\":\n",
    "    if i == \"_\":\n",
    "        x += \" \"\n",
    "    else:\n",
    "        x += i\n",
    "print(x)\n",
    "```"
   ]
  },
  {
   "cell_type": "code",
   "execution_count": null,
   "metadata": {},
   "outputs": [],
   "source": []
  },
  {
   "cell_type": "markdown",
   "metadata": {},
   "source": [
    "## 7. Solutions\n",
    "\n",
    "Before you take a look at the solutions, try to solve the exercises yourself! All the information needed lives in 5. Practical - if you are stuck, first take a look at the material there. Talk to your fellow students. If you have a solution, then go ahead and take a look here.\n",
    "\n",
    "\n",
    "<details><summary>Exercise 6.1</summary>\n",
    "\n",
    "Integers and strings cannot be summed or concatenated together, so this will result in an error. In order to use `+` you have to decide the behavior you want by converting one of them to the expected type.\n",
    "    \n",
    "</details>\n",
    "\n",
    "\n",
    "***\n",
    "\n",
    "\n",
    "<details><summary>Exercise 6.2</summary>\n",
    "   \n",
    "```python\n",
    "# Without changing the assignment, use `int(  )` to cast string to integer\n",
    "print(x + int(y))    \n",
    "```\n",
    "    \n",
    "</details>\n",
    "\n",
    "***\n",
    "\n",
    "<details><summary>Exercise 6.3</summary>\n",
    "\n",
    "The solution would be:\n",
    "    \n",
    "```python\n",
    "\"python is amazing!\"\n",
    "\n",
    "```\n",
    "\n",
    "Why? Because we are iterating over the string contents, letter by letter, and adding them to a new one (`x`) one letter at a time. However, before adding to `x` we first chechk if the letter is a `_`, and in that case we replace it with a space ` `. In practice, this means we are replacing underscores with spaces. Of course there are simpler ways to do such a common operation! \n",
    "    \n",
    "```python\n",
    "x = \"python_is_amazing!\".replace(\"_\", \" \")\n",
    "```\n",
    "    \n",
    "</details>"
   ]
  }
 ],
 "metadata": {
  "kernelspec": {
   "display_name": "Python 3 (ipykernel)",
   "language": "python",
   "name": "python3"
  },
  "language_info": {
   "codemirror_mode": {
    "name": "ipython",
    "version": 3
   },
   "file_extension": ".py",
   "mimetype": "text/x-python",
   "name": "python",
   "nbconvert_exporter": "python",
   "pygments_lexer": "ipython3",
   "version": "3.9.12"
  }
 },
 "nbformat": 4,
 "nbformat_minor": 4
}
